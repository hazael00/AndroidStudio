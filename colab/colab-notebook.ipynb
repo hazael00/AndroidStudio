{
  "cells": [
    {
      "cell_type": "markdown",
      "metadata": {
        "id": "view-in-github",
        "colab_type": "text"
      },
      "source": [
        "<a href=\"https://colab.research.google.com/github/hazael00/AndroidStudio/blob/master/colab/colab-notebook.ipynb\" target=\"_parent\"><img src=\"https://colab.research.google.com/assets/colab-badge.svg\" alt=\"Open In Colab\"/></a>"
      ]
    },
    {
      "cell_type": "code",
      "execution_count": null,
      "metadata": {
        "id": "WZRmj08byrjs"
      },
      "outputs": [],
      "source": [
        "#### PICK ONE: This node for temporary install\n",
        "SWARMPATH = '/content/'"
      ]
    },
    {
      "cell_type": "code",
      "execution_count": null,
      "metadata": {
        "id": "j66Aum75yrjw"
      },
      "outputs": [],
      "source": [
        "#### PICK ONE: *OR* this node for install in google drive\n",
        "from google.colab import drive\n",
        "drive.mount('/content/drive')\n",
        "SWARMPATH = '/content/drive/MyDrive'"
      ]
    },
    {
      "cell_type": "code",
      "execution_count": null,
      "metadata": {
        "id": "Sg0HeYwkM48V"
      },
      "outputs": [],
      "source": [
        "# Install apt dependencies\n",
        "!apt install dotnet-sdk-7.0 git\n",
        "\n",
        "# Install Clouldflared (not on apt)\n",
        "!wget https://github.com/cloudflare/cloudflared/releases/latest/download/cloudflared-linux-amd64.deb\n",
        "!dpkg -i cloudflared-linux-amd64.deb\n",
        "\n",
        "# use the chosen path\n",
        "import os\n",
        "os.environ['SWARMPATH'] = SWARMPATH\n",
        "%cd $SWARMPATH\n",
        "\n",
        "# Download StableSwarmUI\n",
        "!git clone https://github.com/Stability-AI/StableSwarmUI\n"
      ]
    },
    {
      "cell_type": "code",
      "execution_count": null,
      "metadata": {
        "id": "K9Oer9TVObYA"
      },
      "outputs": [],
      "source": [
        "# Alright, launch it! Watch the output for a Cloudflare URL\n",
        "%cd $SWARMPATH/StableSwarmUI/\n",
        "\n",
        "!bash ./launch-linux.sh --launch_mode none --cloudflared-path cloudflared --explicit_shell bash"
      ]
    }
  ],
  "metadata": {
    "accelerator": "GPU",
    "colab": {
      "gpuType": "T4",
      "provenance": [],
      "include_colab_link": true
    },
    "kernelspec": {
      "display_name": "Python 3",
      "name": "python3"
    },
    "language_info": {
      "name": "python"
    }
  },
  "nbformat": 4,
  "nbformat_minor": 0
}